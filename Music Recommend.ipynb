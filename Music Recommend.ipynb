{
 "cells": [
  {
   "cell_type": "markdown",
   "metadata": {},
   "source": [
    "    A Music Recommendation System is an application of Data Science that aims to assist users in discovering new and relevant musical content based on their preferences and listening behaviour. Personalized music recommendations have become an essential tool in the digital music landscape, enabling music streaming platforms like Spotify and Apple Music to offer personalized and engaging experiences to their users. If you want to learn how to build a music recommendation system, this article is for you. In this article, I’ll take you through building a Music Recommendation System using Spotify API and Python.\n",
    "\n",
    "    How Does a Music Recommendation System Work?\n",
    "    Music Recommendation Systems operate through intricate algorithms that analyze vast amounts of data about users’ musical interactions, such as their listening history, liked tracks, skipped songs, and even explicit user preferences conveyed through ratings or feedback. These data points are instrumental in constructing comprehensive user profiles, delineating individual tastes and preferences.\n",
    "\n",
    "    In the initial phase, the system employs various data preprocessing techniques to cleanse and organize the information efficiently. Subsequently, the system uses recommendation algorithms, such as collaborative filtering, content-based filtering, and hybrid approaches, to generate music recommendations.\n",
    "\n",
    "    As users continually interact with the system, it accumulates additional data, refining and updating their profiles in real time. Consequently, the recommendations become increasingly precise and aligned with the user’s evolving musical preferences.\n",
    "\n",
    "    What is Spotify API & How to build a Music Recommendation System using Spotify API?\n",
    "    The Spotify API is a set of rules and protocols provided by Spotify developers. It enables developers to interact with Spotify’s vast music catalogue and collect music-related data. Through the Spotify API, developers can access information such as tracks, albums, artists, playlists, user profiles, and play history, among other features, empowering them to build innovative applications and services that integrate seamlessly with the Spotify platform.\n",
    "\n",
    "    To build a Music Recommendation System using the Spotify API, we are required to collect real-time music data from Spotify. For this task, we need a Spotify developer account to get our credentials from Spotify to access their data.\n",
    "\n",
    "    Below is the process you can follow to sign up for the Spotify developer account and get your credentials."
   ]
  },
  {
   "cell_type": "code",
   "execution_count": 28,
   "metadata": {
    "execution": {
     "iopub.execute_input": "2024-04-13T10:35:59.964867Z",
     "iopub.status.busy": "2024-04-13T10:35:59.963684Z",
     "iopub.status.idle": "2024-04-13T10:36:00.015412Z",
     "shell.execute_reply": "2024-04-13T10:36:00.013902Z",
     "shell.execute_reply.started": "2024-04-13T10:35:59.964823Z"
    }
   },
   "outputs": [
    {
     "name": "stdout",
     "output_type": "stream",
     "text": [
      "Access token obtained successfully.\n"
     ]
    }
   ],
   "source": [
    "import requests\n",
    "import base64\n",
    "\n",
    "# Replace with your own Client ID and Client Secret\n",
    "CLIENT_ID = '!'\n",
    "CLIENT_SECRET = '!'\n",
    "\n",
    "# Base64 encode the client ID and client secret\n",
    "client_credentials = f\"{CLIENT_ID}:{CLIENT_SECRET}\"\n",
    "client_credentials_base64 = base64.b64encode(client_credentials.encode())\n",
    "\n",
    "# Request the access token\n",
    "token_url = 'https://accounts.spotify.com/api/token'\n",
    "headers = {\n",
    "    'Authorization': f'Basic {client_credentials_base64.decode()}'\n",
    "}\n",
    "data = {\n",
    "    'grant_type': 'client_credentials'\n",
    "}\n",
    "response = requests.post(token_url, data=data, headers=headers)\n",
    "\n",
    "if response.status_code == 200:\n",
    "    access_token = response.json()['access_token']\n",
    "    print(\"Access token obtained successfully.\")\n",
    "else:\n",
    "    print(\"Error obtaining access token.\")\n",
    "    exit()"
   ]
  },
  {
   "cell_type": "markdown",
   "metadata": {},
   "source": [
    "    In the above code, The CLIENT_ID and CLIENT_SECRET variables hold my credentials (you need to add your credentials in these variables) that uniquely identify the application making requests to the Spotify API. These credentials are obtained when a developer registers their application with Spotify’s developer dashboard. The Client ID identifies the application, while the Client Secret is a confidential key used for authentication.\n",
    "\n",
    "    The client ID and secret are combined in the client_credentials variable, separated by a colon (:). Then, this string is encoded using Base64 encoding to create a secure representation of the credentials. We then proceed to request an access token from the Spotify API.\n",
    "\n",
    "    It sends a POST request to the token_url (https://accounts.spotify.com/api/token) with the client credentials in the Authorization header, which is required for client authentication. The grant_type parameter is set to ‘client_credentials’ to indicate that the application is requesting an access token for the client credentials flow.\n",
    "\n",
    "    With the access token, the application can now make authorized requests to retrieve music data, such as tracks, albums, artists, and user information, which is fundamental for building a music recommendation system using the Spotify API and Python.\n",
    "\n",
    "    Now, I’ll write a function to get music data from any playlist on Spotify. For this task, you need to install the Spotipy library, which is a Python library providing access to Spotify’s web API. Here’s how to install it on your system by writing the command mentioned below in your command prompt or terminal:"
   ]
  },
  {
   "cell_type": "code",
   "execution_count": 5,
   "metadata": {
    "execution": {
     "iopub.execute_input": "2024-04-13T10:36:00.020675Z",
     "iopub.status.busy": "2024-04-13T10:36:00.020272Z",
     "iopub.status.idle": "2024-04-13T10:36:10.379594Z",
     "shell.execute_reply": "2024-04-13T10:36:10.378558Z",
     "shell.execute_reply.started": "2024-04-13T10:36:00.020643Z"
    }
   },
   "outputs": [
    {
     "name": "stdout",
     "output_type": "stream",
     "text": [
      "Collecting spotipy\n",
      "  Using cached spotipy-2.24.0-py3-none-any.whl.metadata (4.9 kB)\n",
      "Collecting redis>=3.5.3 (from spotipy)\n",
      "  Using cached redis-5.0.8-py3-none-any.whl.metadata (9.2 kB)\n",
      "Collecting requests>=2.25.0 (from spotipy)\n",
      "  Using cached requests-2.32.3-py3-none-any.whl.metadata (4.6 kB)\n",
      "Collecting urllib3>=1.26.0 (from spotipy)\n",
      "  Using cached urllib3-2.2.2-py3-none-any.whl.metadata (6.4 kB)\n",
      "Requirement already satisfied: async-timeout>=4.0.3 in /Library/Frameworks/Python.framework/Versions/3.10/lib/python3.10/site-packages (from redis>=3.5.3->spotipy) (4.0.3)\n",
      "Collecting charset-normalizer<4,>=2 (from requests>=2.25.0->spotipy)\n",
      "  Using cached charset_normalizer-3.3.2-cp310-cp310-macosx_11_0_arm64.whl.metadata (33 kB)\n",
      "Requirement already satisfied: idna<4,>=2.5 in /Library/Frameworks/Python.framework/Versions/3.10/lib/python3.10/site-packages (from requests>=2.25.0->spotipy) (2.8)\n",
      "Requirement already satisfied: certifi>=2017.4.17 in /Library/Frameworks/Python.framework/Versions/3.10/lib/python3.10/site-packages (from requests>=2.25.0->spotipy) (2020.6.20)\n",
      "Using cached spotipy-2.24.0-py3-none-any.whl (30 kB)\n",
      "Using cached redis-5.0.8-py3-none-any.whl (255 kB)\n",
      "Using cached requests-2.32.3-py3-none-any.whl (64 kB)\n",
      "Using cached urllib3-2.2.2-py3-none-any.whl (121 kB)\n",
      "Using cached charset_normalizer-3.3.2-cp310-cp310-macosx_11_0_arm64.whl (120 kB)\n",
      "Installing collected packages: urllib3, redis, charset-normalizer, requests, spotipy\n",
      "\u001b[33m  WARNING: The script normalizer is installed in '/Users/sahayvansh/Library/Python/3.10/bin' which is not on PATH.\n",
      "  Consider adding this directory to PATH or, if you prefer to suppress this warning, use --no-warn-script-location.\u001b[0m\u001b[33m\n",
      "\u001b[0m\u001b[31mERROR: pip's dependency resolver does not currently take into account all the packages that are installed. This behaviour is the source of the following dependency conflicts.\n",
      "discord-webhooks 1.0.4 requires requests==2.21.0, but you have requests 2.32.3 which is incompatible.\n",
      "botocore 1.34.2 requires urllib3<2.1,>=1.25.4; python_version >= \"3.10\", but you have urllib3 2.2.2 which is incompatible.\n",
      "selenium 4.1.0 requires urllib3[secure]~=1.26, but you have urllib3 2.2.2 which is incompatible.\u001b[0m\u001b[31m\n",
      "\u001b[0mSuccessfully installed charset-normalizer-3.3.2 redis-5.0.8 requests-2.32.3 spotipy-2.24.0 urllib3-2.2.2\n",
      "\n",
      "\u001b[1m[\u001b[0m\u001b[34;49mnotice\u001b[0m\u001b[1;39;49m]\u001b[0m\u001b[39;49m A new release of pip is available: \u001b[0m\u001b[31;49m24.1.2\u001b[0m\u001b[39;49m -> \u001b[0m\u001b[32;49m24.2\u001b[0m\n",
      "\u001b[1m[\u001b[0m\u001b[34;49mnotice\u001b[0m\u001b[1;39;49m]\u001b[0m\u001b[39;49m To update, run: \u001b[0m\u001b[32;49mpip install --upgrade pip\u001b[0m\n",
      "Note: you may need to restart the kernel to use updated packages.\n"
     ]
    }
   ],
   "source": [
    "pip install --user spotipy"
   ]
  },
  {
   "cell_type": "markdown",
   "metadata": {},
   "source": [
    "## Creating DataFrame"
   ]
  },
  {
   "cell_type": "code",
   "execution_count": 29,
   "metadata": {
    "execution": {
     "iopub.execute_input": "2024-04-13T10:36:10.381129Z",
     "iopub.status.busy": "2024-04-13T10:36:10.380828Z",
     "iopub.status.idle": "2024-04-13T10:36:10.394651Z",
     "shell.execute_reply": "2024-04-13T10:36:10.393550Z",
     "shell.execute_reply.started": "2024-04-13T10:36:10.381104Z"
    }
   },
   "outputs": [],
   "source": [
    "import pandas as pd\n",
    "import spotipy\n",
    "from spotipy.oauth2 import SpotifyOAuth\n",
    "\n",
    "def get_trending_playlist_data(playlist_id, access_token):\n",
    "    # Set up Spotipy with the access token\n",
    "    sp = spotipy.Spotify(auth=access_token)\n",
    "\n",
    "    # Get the tracks from the playlist\n",
    "    playlist_tracks = sp.playlist_tracks(playlist_id, fields='items(track(id, name, artists, album(id, name)))')\n",
    "\n",
    "    # Extract relevant information and store in a list of dictionaries\n",
    "    music_data = []\n",
    "    for track_info in playlist_tracks['items']:\n",
    "        track = track_info['track']\n",
    "        track_name = track['name']\n",
    "        artists = ', '.join([artist['name'] for artist in track['artists']])\n",
    "        album_name = track['album']['name']\n",
    "        album_id = track['album']['id']\n",
    "        track_id = track['id']\n",
    "\n",
    "        # Get audio features for the track\n",
    "        audio_features = sp.audio_features(track_id)[0] if track_id != 'Not available' else None\n",
    "\n",
    "        # Get release date of the album\n",
    "        try:\n",
    "            album_info = sp.album(album_id) if album_id != 'Not available' else None\n",
    "            release_date = album_info['release_date'] if album_info else None\n",
    "        except:\n",
    "            release_date = None\n",
    "\n",
    "        # Get popularity of the track\n",
    "        try:\n",
    "            track_info = sp.track(track_id) if track_id != 'Not available' else None\n",
    "            popularity = track_info['popularity'] if track_info else None\n",
    "        except:\n",
    "            popularity = None\n",
    "\n",
    "        # Add additional track information to the track data\n",
    "        track_data = {\n",
    "            'Track Name': track_name,\n",
    "            'Artists': artists,\n",
    "            'Album Name': album_name,\n",
    "            'Album ID': album_id,\n",
    "            'Track ID': track_id,\n",
    "            'Popularity': popularity,\n",
    "            'Release Date': release_date,\n",
    "            'Duration (ms)': audio_features['duration_ms'] if audio_features else None,\n",
    "            'Explicit': track_info.get('explicit', None),\n",
    "            'External URLs': track_info.get('external_urls', {}).get('spotify', None),\n",
    "            'Danceability': audio_features['danceability'] if audio_features else None,\n",
    "            'Energy': audio_features['energy'] if audio_features else None,\n",
    "            'Key': audio_features['key'] if audio_features else None,\n",
    "            'Loudness': audio_features['loudness'] if audio_features else None,\n",
    "            'Mode': audio_features['mode'] if audio_features else None,\n",
    "            'Speechiness': audio_features['speechiness'] if audio_features else None,\n",
    "            'Acousticness': audio_features['acousticness'] if audio_features else None,\n",
    "            'Instrumentalness': audio_features['instrumentalness'] if audio_features else None,\n",
    "            'Liveness': audio_features['liveness'] if audio_features else None,\n",
    "            'Valence': audio_features['valence'] if audio_features else None,\n",
    "            'Tempo': audio_features['tempo'] if audio_features else None,\n",
    "            # Add more attributes as needed\n",
    "        }\n",
    "\n",
    "        music_data.append(track_data)\n",
    "\n",
    "    # Create a pandas DataFrame from the list of dictionaries\n",
    "    df = pd.DataFrame(music_data)\n",
    "\n",
    "    return df"
   ]
  },
  {
   "cell_type": "markdown",
   "metadata": {},
   "source": [
    "    The function begins by initializing the Spotipy client with the provided access_token, which serves as the authentication token to interact with the Spotify Web API. The access_token allows the function to make authorized requests to access Spotify’s resources. The function then uses the Spotipy client to fetch information about the tracks in the specified playlist (identified by its playlist_id). The sp.playlist_tracks method retrieves the playlist tracks. The fields parameter is used to specify the specific track information that is required, such as track ID, name, artists, album ID, and album name.\n",
    "\n",
    "    The function then extracts relevant information from the retrieved playlist tracks and stores it in a list of dictionaries called music_data. For each track in the playlist, the function extracts data such as track name, artists (combined into a single string), album name, album ID, track ID, and popularity. The function uses the sp.audio_features method to fetch audio features for each track in the playlist. These audio features include attributes like danceability, energy, key, loudness, speechiness, acousticness, instrumentalness, liveness, valence, tempo, etc. These audio features provide insights into the characteristics of each track.\n",
    "\n",
    "    The extracted information for all tracks is stored in the music_data list. The function then creates a DataFrame from the music_data list. The DataFrame organizes the music data in a tabular format, making it easier to analyze and work with the collected information.\n",
    "\n",
    "    Now, here’s how we can use the function to collect music data from any playlist on Spotify:"
   ]
  },
  {
   "cell_type": "markdown",
   "metadata": {},
   "source": [
    "## Choosing Playlist"
   ]
  },
  {
   "cell_type": "code",
   "execution_count": 30,
   "metadata": {
    "execution": {
     "iopub.execute_input": "2024-04-13T10:36:10.397949Z",
     "iopub.status.busy": "2024-04-13T10:36:10.397593Z",
     "iopub.status.idle": "2024-04-13T10:36:37.277804Z",
     "shell.execute_reply": "2024-04-13T10:36:37.276614Z",
     "shell.execute_reply.started": "2024-04-13T10:36:10.397921Z"
    }
   },
   "outputs": [
    {
     "name": "stdout",
     "output_type": "stream",
     "text": [
      "                               Track Name                        Artists  \\\n",
      "0                             Not Like Us                 Kendrick Lamar   \n",
      "1                      A Bar Song (Tipsy)                      Shaboozey   \n",
      "2   I Had Some Help (Feat. Morgan Wallen)     Post Malone, Morgan Wallen   \n",
      "3                      BIRDS OF A FEATHER                  Billie Eilish   \n",
      "4                                Espresso              Sabrina Carpenter   \n",
      "..                                    ...                            ...   \n",
      "95                                   DEAD  ¥$, Kanye West, Ty Dolla $ign   \n",
      "96                                Revival                     Zach Bryan   \n",
      "97                                HUSBAND  ¥$, Kanye West, Ty Dolla $ign   \n",
      "98                        Whiskey Glasses                  Morgan Wallen   \n",
      "99        KEHLANI (REMIX) [feat. Kehlani]       Jordan Adetunji, Kehlani   \n",
      "\n",
      "                         Album Name                Album ID  \\\n",
      "0                       Not Like Us  5JjnoGJyOxfSZUZtk2rRwZ   \n",
      "1                A Bar Song (Tipsy)  6egBeCLeGITzGSo5VyRjwZ   \n",
      "2                   I Had Some Help  1woYXxyyxTQJ0E0AhZE6mj   \n",
      "3              HIT ME HARD AND SOFT  7aJuG4TFXa2hmE4z1yxc3n   \n",
      "4                          Espresso  5quMTd5zeI9yW5UDua8wS4   \n",
      "..                              ...                     ...   \n",
      "95                       VULTURES 2  2LaSVrn1EJc9ouFyp69g4e   \n",
      "96                        Elisabeth  3TkSm0esbUBPygKvMrwWQn   \n",
      "97                       VULTURES 2  2LaSVrn1EJc9ouFyp69g4e   \n",
      "98                     If I Know Me  6WKNoni6aDzCTUN1CtJJ5R   \n",
      "99  KEHLANI (REMIX) [feat. Kehlani]  3nvHqMFKLvVafOzbR6dANQ   \n",
      "\n",
      "                  Track ID  Popularity Release Date  Duration (ms)  Explicit  \\\n",
      "0   6AI3ezQ4o3HUoP6Dhudph3          96   2024-05-04       274192.0      True   \n",
      "1   2FQrifJ1N335Ljm3TjTVVf          92   2024-04-12       171292.0      True   \n",
      "2   7221xIgOnuakPdLqT0F3nP          94   2024-05-10       178206.0      True   \n",
      "3   6dOtVTDdiauQNBQEDOtlAB         100   2024-05-17       210373.0     False   \n",
      "4   2qSkIjg1o9h3YT9RAgYN75          98   2024-04-12       175459.0      True   \n",
      "..                     ...         ...          ...            ...       ...   \n",
      "95  3OIzMTyg6PIV2ZsefS3O2n          72   2024-08-03       263340.0      True   \n",
      "96  2QfX9Pdz3q66fN3kCXl0Js          79   2020-05-08       221250.0     False   \n",
      "97  51Ku9WXBmDgg9Ni5jg5kuR          71   2024-08-03       137600.0      True   \n",
      "98  57TEkZN3f84tFJFHFrD4pO          80   2018-04-27       234347.0     False   \n",
      "99  5Nt2FMqnKI2mlp7lztURNo          72   2024-06-20       179975.0      True   \n",
      "\n",
      "                                        External URLs  ...  Energy   Key  \\\n",
      "0   https://open.spotify.com/track/6AI3ezQ4o3HUoP6...  ...   0.472   1.0   \n",
      "1   https://open.spotify.com/track/2FQrifJ1N335Ljm...  ...   0.709   9.0   \n",
      "2   https://open.spotify.com/track/7221xIgOnuakPdL...  ...   0.855   7.0   \n",
      "3   https://open.spotify.com/track/6dOtVTDdiauQNBQ...  ...   0.507   2.0   \n",
      "4   https://open.spotify.com/track/2qSkIjg1o9h3YT9...  ...   0.760   0.0   \n",
      "..                                                ...  ...     ...   ...   \n",
      "95  https://open.spotify.com/track/3OIzMTyg6PIV2Zs...  ...   0.425  11.0   \n",
      "96  https://open.spotify.com/track/2QfX9Pdz3q66fN3...  ...   0.366   7.0   \n",
      "97  https://open.spotify.com/track/51Ku9WXBmDgg9Ni...  ...   0.235   0.0   \n",
      "98  https://open.spotify.com/track/57TEkZN3f84tFJF...  ...   0.680   6.0   \n",
      "99  https://open.spotify.com/track/5Nt2FMqnKI2mlp7...  ...   0.699   6.0   \n",
      "\n",
      "    Loudness  Mode  Speechiness  Acousticness  Instrumentalness  Liveness  \\\n",
      "0     -7.001   1.0       0.0776       0.01070          0.000000    0.1410   \n",
      "1     -4.950   1.0       0.0273       0.06330          0.000000    0.0804   \n",
      "2     -4.860   1.0       0.0264       0.00757          0.000000    0.2450   \n",
      "3    -10.171   1.0       0.0358       0.20000          0.060800    0.1170   \n",
      "4     -5.478   1.0       0.0285       0.10700          0.000065    0.1850   \n",
      "..       ...   ...          ...           ...               ...       ...   \n",
      "95   -10.000   1.0       0.3880       0.04550          0.000039    0.1080   \n",
      "96    -9.025   1.0       0.0470       0.77200          0.000016    0.0949   \n",
      "97   -11.737   1.0       0.2020       0.83800          0.000005    0.1110   \n",
      "98    -4.581   1.0       0.0288       0.36100          0.000001    0.1160   \n",
      "99    -3.607   1.0       0.0559       0.07590          0.000000    0.2980   \n",
      "\n",
      "    Valence    Tempo  \n",
      "0     0.214  101.061  \n",
      "1     0.604   81.012  \n",
      "2     0.731  127.986  \n",
      "3     0.438  104.978  \n",
      "4     0.690  103.969  \n",
      "..      ...      ...  \n",
      "95    0.145  134.044  \n",
      "96    0.328   78.846  \n",
      "97    0.195  149.790  \n",
      "98    0.687  149.951  \n",
      "99    0.219  159.687  \n",
      "\n",
      "[100 rows x 21 columns]\n"
     ]
    }
   ],
   "source": [
    "playlist_id = '0sDahzOkMWOmLXfTMf2N4N' #That's the top 100 popular songs on Spotify\n",
    "# Call the function to get the music data from the playlist and store it in a DataFrame\n",
    "music_df = get_trending_playlist_data(playlist_id, access_token)\n",
    "\n",
    "# Display the DataFrame\n",
    "print(music_df)"
   ]
  },
  {
   "cell_type": "markdown",
   "metadata": {},
   "source": [
    "    You can also add your playlist id here. If your playlist link is (https://open.spotify.com/playlist/5ABHKGoOzxkaa28ttQV9sE), the playlist ID is “5ABHKGoOzxkaa28ttQV9sE”, which is what you would replace with my playlist id within the above code snippet.\n",
    "\n",
    "    Now let’s check if the data has any null values or not:\n",
    "    "
   ]
  },
  {
   "cell_type": "code",
   "execution_count": 34,
   "metadata": {
    "execution": {
     "iopub.execute_input": "2024-04-13T10:36:37.279182Z",
     "iopub.status.busy": "2024-04-13T10:36:37.278853Z",
     "iopub.status.idle": "2024-04-13T10:36:37.287431Z",
     "shell.execute_reply": "2024-04-13T10:36:37.286222Z",
     "shell.execute_reply.started": "2024-04-13T10:36:37.279155Z"
    }
   },
   "outputs": [
    {
     "name": "stdout",
     "output_type": "stream",
     "text": [
      "Track Name          0\n",
      "Artists             0\n",
      "Album Name          0\n",
      "Album ID            0\n",
      "Track ID            0\n",
      "Popularity          0\n",
      "Release Date        0\n",
      "Duration (ms)       0\n",
      "Explicit            0\n",
      "External URLs       0\n",
      "Danceability        0\n",
      "Energy              0\n",
      "Key                 0\n",
      "Loudness            0\n",
      "Mode                0\n",
      "Speechiness         0\n",
      "Acousticness        0\n",
      "Instrumentalness    0\n",
      "Liveness            0\n",
      "Valence             0\n",
      "Tempo               0\n",
      "dtype: int64\n",
      "dropping NA values\n",
      "Track Name          0\n",
      "Artists             0\n",
      "Album Name          0\n",
      "Album ID            0\n",
      "Track ID            0\n",
      "Popularity          0\n",
      "Release Date        0\n",
      "Duration (ms)       0\n",
      "Explicit            0\n",
      "External URLs       0\n",
      "Danceability        0\n",
      "Energy              0\n",
      "Key                 0\n",
      "Loudness            0\n",
      "Mode                0\n",
      "Speechiness         0\n",
      "Acousticness        0\n",
      "Instrumentalness    0\n",
      "Liveness            0\n",
      "Valence             0\n",
      "Tempo               0\n",
      "dtype: int64\n"
     ]
    }
   ],
   "source": [
    "print(music_df.isnull().sum())\n",
    "music_df = music_df.dropna()\n",
    "print(\"dropping NA values\")\n",
    "print(music_df.isnull().sum())"
   ]
  },
  {
   "cell_type": "markdown",
   "metadata": {},
   "source": [
    "## Tunning Features for Recommendations"
   ]
  },
  {
   "cell_type": "code",
   "execution_count": 35,
   "metadata": {
    "execution": {
     "iopub.execute_input": "2024-04-13T10:36:37.288730Z",
     "iopub.status.busy": "2024-04-13T10:36:37.288450Z",
     "iopub.status.idle": "2024-04-13T10:36:37.298843Z",
     "shell.execute_reply": "2024-04-13T10:36:37.297527Z",
     "shell.execute_reply.started": "2024-04-13T10:36:37.288706Z"
    }
   },
   "outputs": [],
   "source": [
    "import pandas as pd\n",
    "import numpy as np\n",
    "from sklearn.model_selection import train_test_split\n",
    "from sklearn.preprocessing import MinMaxScaler\n",
    "from datetime import datetime\n",
    "from sklearn.metrics.pairwise import cosine_similarity\n",
    "\n",
    "data = music_df"
   ]
  },
  {
   "cell_type": "markdown",
   "metadata": {},
   "source": [
    "    While providing music recommendations to users, it is important to recommend the latest releases. For this, we need to give more weight to the latest releases in the recommendations. Let’s write a function to solve this problem:"
   ]
  },
  {
   "cell_type": "code",
   "execution_count": 36,
   "metadata": {
    "execution": {
     "iopub.execute_input": "2024-04-13T10:36:37.300526Z",
     "iopub.status.busy": "2024-04-13T10:36:37.300229Z",
     "iopub.status.idle": "2024-04-13T10:36:37.311688Z",
     "shell.execute_reply": "2024-04-13T10:36:37.310017Z",
     "shell.execute_reply.started": "2024-04-13T10:36:37.300502Z"
    }
   },
   "outputs": [],
   "source": [
    "# Function to calculate weighted popularity scores based on release date\n",
    "def calculate_weighted_popularity(release_date):\n",
    "    # Convert the release date to datetime object\n",
    "    release_date = datetime.strptime(release_date, '%Y-%m-%d')\n",
    "\n",
    "    # Calculate the time span between release date and today's date\n",
    "    time_span = datetime.now() - release_date\n",
    "\n",
    "    # Calculate the weighted popularity score based on time span (e.g., more recent releases have higher weight)\n",
    "    weight = 1 / (time_span.days + 1)\n",
    "    return weight"
   ]
  },
  {
   "cell_type": "markdown",
   "metadata": {},
   "source": [
    "    The above function takes the release date of a music track as input, which is provided in the format ‘YYYY-MM-DD’. It then uses the datetime.strptime function from the Python datetime module to convert the release date string to a datetime object. This conversion allows us to perform arithmetic operations with dates. The function then calculates the time span between the release date of the track and the current date (today’s date) using datetime.now() – release_date. This results in a timedelta object representing the time difference between the two dates.\n",
    "\n",
    "    The weighted popularity score is computed based on the time span. The formula to calculate the weight is 1 / (time_span.days + 1). The time_span.days attribute of the timedelta object gives the number of days in the time span between the release date and today. Adding 1 to the number of days ensures that the weight is never zero, even for very recent releases, as this would lead to a division by zero error.\n",
    "\n",
    "    The idea behind this formula is that the weight decreases as the time span between the release date and today increases. More recent releases will have a higher weight, while older releases will have a lower weight. As a result, when combining this weighted popularity score with other factors in a recommendation system, recent tracks will have a more significant impact on the final recommendations, reflecting users’ potential interest in newer music.\n",
    "\n",
    "    Now let’s normalize the music features before moving forward:"
   ]
  },
  {
   "cell_type": "code",
   "execution_count": 37,
   "metadata": {
    "execution": {
     "iopub.execute_input": "2024-04-13T10:36:37.313705Z",
     "iopub.status.busy": "2024-04-13T10:36:37.313036Z",
     "iopub.status.idle": "2024-04-13T10:36:37.330971Z",
     "shell.execute_reply": "2024-04-13T10:36:37.329740Z",
     "shell.execute_reply.started": "2024-04-13T10:36:37.313663Z"
    }
   },
   "outputs": [],
   "source": [
    "# Normalize the music features using Min-Max scaling\n",
    "scaler = MinMaxScaler()\n",
    "music_features = music_df[['Danceability', 'Energy', 'Key', \n",
    "                           'Loudness', 'Mode', 'Speechiness', 'Acousticness',\n",
    "                           'Instrumentalness', 'Liveness', 'Valence', 'Tempo']].values\n",
    "music_features_scaled = scaler.fit_transform(music_features)"
   ]
  },
  {
   "cell_type": "markdown",
   "metadata": {},
   "source": [
    "    We will create a hybrid recommendation system for music recommendations. The first approach will be based on recommending music based on music audio features, and the second approach will be based on recommending music based on weighted popularity.\n",
    "\n",
    "    Here’s how to generate music recommendations based on the music audio features:"
   ]
  },
  {
   "cell_type": "code",
   "execution_count": 38,
   "metadata": {
    "execution": {
     "iopub.execute_input": "2024-04-13T10:36:37.332719Z",
     "iopub.status.busy": "2024-04-13T10:36:37.332419Z",
     "iopub.status.idle": "2024-04-13T10:36:37.340823Z",
     "shell.execute_reply": "2024-04-13T10:36:37.339667Z",
     "shell.execute_reply.started": "2024-04-13T10:36:37.332694Z"
    }
   },
   "outputs": [],
   "source": [
    "# a function to get content-based recommendations based on music features\n",
    "def content_based_recommendations(input_song_name, num_recommendations=5):\n",
    "    if input_song_name not in music_df['Track Name'].values:\n",
    "        print(f\"'{input_song_name}' not found in the dataset. Please enter a valid song name.\")\n",
    "        return\n",
    "\n",
    "    # Get the index of the input song in the music DataFrame\n",
    "    input_song_index = music_df[music_df['Track Name'] == input_song_name].index[0]\n",
    "\n",
    "    # Calculate the similarity scores based on music features (cosine similarity)\n",
    "    similarity_scores = cosine_similarity([music_features_scaled[input_song_index]], music_features_scaled)\n",
    "\n",
    "    # Get the indices of the most similar songs\n",
    "    similar_song_indices = similarity_scores.argsort()[0][::-1][1:num_recommendations + 1]\n",
    "\n",
    "    # Get the names of the most similar songs based on content-based filtering\n",
    "    content_based_recommendations = music_df.iloc[similar_song_indices][['Track Name', 'Artists', 'Album Name', 'Release Date', 'Popularity']]\n",
    "\n",
    "    return content_based_recommendations"
   ]
  },
  {
   "cell_type": "markdown",
   "metadata": {},
   "source": [
    "    The above function takes input_song_name as the input, which represents the name of the song for which recommendations are to be generated. The function checks if the input_song_name exists in the music_df DataFrame, which presumably contains the music data with features like ‘Track Name’, ‘Artists’, ‘Album Name’, ‘Release Date’, and ‘Popularity’. If the input song name is found in the music_df DataFrame, the function retrieves the index of the input song in the DataFrame. This index will be used to compare the audio features of the input song with other songs in the dataset.\n",
    "\n",
    "    The function calculates the similarity scores between the audio features of the input song and all other songs in the dataset. It uses cosine similarity, a common measure used in content-based filtering. The cosine_similarity function from scikit-learn is employed to compute these similarity scores.\n",
    "\n",
    "    The function identifies the num_recommendations most similar songs to the input song based on their audio features. It does this by sorting the similarity scores in descending order and selecting the top num_recommendations songs. The input song itself is excluded from the recommendations (hence the [1:num_recommendations + 1] slicing). The function then extracts the details (such as track name, artists, album name, release date, and popularity) of the most similar songs from the music_df DataFrame using the indices of the most similar songs.\n",
    "\n",
    "    Now here’s the function to generate music recommendations based on weighted popularity and combine it with the recommendations of the content-based filtering method using the hybrid approach:"
   ]
  },
  {
   "cell_type": "code",
   "execution_count": 39,
   "metadata": {
    "execution": {
     "iopub.execute_input": "2024-04-13T10:36:37.344432Z",
     "iopub.status.busy": "2024-04-13T10:36:37.344099Z",
     "iopub.status.idle": "2024-04-13T10:36:37.357161Z",
     "shell.execute_reply": "2024-04-13T10:36:37.355712Z",
     "shell.execute_reply.started": "2024-04-13T10:36:37.344407Z"
    }
   },
   "outputs": [],
   "source": [
    "def hybrid_recommendations(input_song_name, num_recommendations=5, alpha=0.5):\n",
    "    if input_song_name not in music_df['Track Name'].values:\n",
    "        print(f\"'{input_song_name}' not found in the dataset. Please enter a valid song name.\")\n",
    "        return\n",
    "\n",
    "    # Get content-based recommendations\n",
    "    content_based_rec = content_based_recommendations(input_song_name, num_recommendations)\n",
    "\n",
    "    # Get the popularity score of the input song\n",
    "    popularity_score = music_df.loc[music_df['Track Name'] == input_song_name, 'Popularity'].values[0]\n",
    "\n",
    "    # Calculate the weighted popularity score\n",
    "    weighted_popularity_score = popularity_score * calculate_weighted_popularity(music_df.loc[music_df['Track Name'] == input_song_name, 'Release Date'].values[0])\n",
    "\n",
    "    # Create a DataFrame for the input song\n",
    "    input_song_data = {\n",
    "        'Track Name': [input_song_name],\n",
    "        'Artists': [music_df.loc[music_df['Track Name'] == input_song_name, 'Artists'].values[0]],\n",
    "        'Album Name': [music_df.loc[music_df['Track Name'] == input_song_name, 'Album Name'].values[0]],\n",
    "        'Release Date': [music_df.loc[music_df['Track Name'] == input_song_name, 'Release Date'].values[0]],\n",
    "        'Popularity': [weighted_popularity_score]\n",
    "    }\n",
    "    input_song_df = pd.DataFrame(input_song_data)\n",
    "\n",
    "    # Concatenate the input song DataFrame with content-based recommendations\n",
    "    hybrid_recommendations = pd.concat([content_based_rec, input_song_df], ignore_index=True)\n",
    "\n",
    "    # Sort the hybrid recommendations based on weighted popularity score\n",
    "    hybrid_recommendations = hybrid_recommendations.sort_values(by='Popularity', ascending=False)\n",
    "\n",
    "    # Remove the input song from the recommendations\n",
    "    hybrid_recommendations = hybrid_recommendations[hybrid_recommendations['Track Name'] != input_song_name]\n",
    "\n",
    "    return hybrid_recommendations"
   ]
  },
  {
   "cell_type": "markdown",
   "metadata": {},
   "source": [
    "    The hybrid approach aims to provide more personalized and relevant recommendations by considering both the content similarity of songs and their weighted popularity. The function takes input_song_name as the input, representing the name of the song for which recommendations are to be generated. The function first calls the content_based_recommendations function to get content-based recommendations for the input song. The num_recommendations parameter determines the number of content-based recommendations to be retrieved.\n",
    "\n",
    "    The function calculates the popularity score of the input song by retrieving the popularity value from the music_df DataFrame. It also calculates the weighted popularity score using the calculate_weighted_popularity function (previously defined) based on the release date of the input song. The alpha parameter controls the relative importance of content-based and popularity-based recommendations.\n",
    "\n",
    "    The content-based recommendations obtained earlier are stored in the content_based_rec DataFrame. The function combines the content-based recommendations with the input song’s information (track name, artists, album name, release date, and popularity) and its weighted popularity score. This step creates a DataFrame named hybrid_recommendations that includes both the content-based recommendations and the input song’s data.\n",
    "\n",
    "    The hybrid_recommendations DataFrame is then sorted in descending order based on the weighted popularity score. This step ensures that the most popular and relevant songs appear at the top of the recommendations. The input song is then removed from the recommendations to avoid suggesting the same song as part of the recommendations.\n",
    "\n",
    "    Now here’s how we can test the final function to generate music recommendations:"
   ]
  },
  {
   "cell_type": "markdown",
   "metadata": {},
   "source": [
    "## Recommendation Song List"
   ]
  },
  {
   "cell_type": "code",
   "execution_count": 40,
   "metadata": {
    "execution": {
     "iopub.execute_input": "2024-04-13T10:36:37.359561Z",
     "iopub.status.busy": "2024-04-13T10:36:37.358514Z",
     "iopub.status.idle": "2024-04-13T10:36:37.380748Z",
     "shell.execute_reply": "2024-04-13T10:36:37.379360Z",
     "shell.execute_reply.started": "2024-04-13T10:36:37.359525Z"
    }
   },
   "outputs": [
    {
     "name": "stdout",
     "output_type": "stream",
     "text": [
      "Hybrid recommended songs for 'Not Like Us':\n",
      "                Track Name                   Artists           Album Name Release Date  Popularity\n",
      "        BIRDS OF A FEATHER             Billie Eilish HIT ME HARD AND SOFT   2024-05-17       100.0\n",
      " Where the Wild Things Are                Luke Combs          Gettin' Old   2023-03-24        84.0\n",
      "Mamushi (feat. Yuki Chiba) Megan Thee Stallion, 千葉雄喜                MEGAN   2024-06-27        63.0\n",
      "                    Ginger                    Senzei Proceed With Caution   2023-11-10        24.0\n",
      "                 Para Dey!                    Senzei Proceed With Caution   2023-11-10        23.0\n"
     ]
    }
   ],
   "source": [
    "input_song_name = \"Not Like Us\"\n",
    "recommendations = hybrid_recommendations(input_song_name, num_recommendations=5)\n",
    "print(f\"Hybrid recommended songs for '{input_song_name}':\")\n",
    "print(recommendations.to_string(index=False))"
   ]
  },
  {
   "cell_type": "markdown",
   "metadata": {},
   "source": [
    "    The name of the song should be in the playlist you put to generate recommendations. Also, it will recommend you songs only in the same playlist"
   ]
  }
 ],
 "metadata": {
  "kaggle": {
   "accelerator": "none",
   "dataSources": [
    {
     "datasetId": 1800580,
     "sourceId": 2936818,
     "sourceType": "datasetVersion"
    },
    {
     "datasetId": 1495083,
     "sourceId": 2469778,
     "sourceType": "datasetVersion"
    },
    {
     "datasetId": 1720572,
     "sourceId": 2814420,
     "sourceType": "datasetVersion"
    },
    {
     "datasetId": 3668746,
     "sourceId": 6367938,
     "sourceType": "datasetVersion"
    },
    {
     "sourceId": 82565779,
     "sourceType": "kernelVersion"
    }
   ],
   "dockerImageVersionId": 30684,
   "isGpuEnabled": false,
   "isInternetEnabled": true,
   "language": "python",
   "sourceType": "notebook"
  },
  "kernelspec": {
   "display_name": "Python 3 (ipykernel)",
   "language": "python",
   "name": "python3"
  },
  "language_info": {
   "codemirror_mode": {
    "name": "ipython",
    "version": 3
   },
   "file_extension": ".py",
   "mimetype": "text/x-python",
   "name": "python",
   "nbconvert_exporter": "python",
   "pygments_lexer": "ipython3",
   "version": "3.10.0"
  }
 },
 "nbformat": 4,
 "nbformat_minor": 4
}
